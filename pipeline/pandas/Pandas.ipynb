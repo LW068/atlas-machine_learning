{
  "nbformat": 4,
  "nbformat_minor": 0,
  "metadata": {
    "colab": {
      "provenance": [],
      "authorship_tag": "ABX9TyPIVr2MpPsd98r20LI3JZ8q",
      "include_colab_link": true
    },
    "kernelspec": {
      "name": "python3",
      "display_name": "Python 3"
    },
    "language_info": {
      "name": "python"
    }
  },
  "cells": [
    {
      "cell_type": "markdown",
      "metadata": {
        "id": "view-in-github",
        "colab_type": "text"
      },
      "source": [
        "<a href=\"https://colab.research.google.com/github/LW068/atlas-machine_learning/blob/main/pipeline/pandas/Pandas.ipynb\" target=\"_parent\"><img src=\"https://colab.research.google.com/assets/colab-badge.svg\" alt=\"Open In Colab\"/></a>"
      ]
    },
    {
      "cell_type": "code",
      "execution_count": 2,
      "metadata": {
        "id": "5TGY9ZH9BlH6"
      },
      "outputs": [],
      "source": [
        "import numpy as np\n",
        "import pandas as pd"
      ]
    },
    {
      "cell_type": "code",
      "source": [
        "import os\n",
        "import zipfile\n",
        "from sklearn.preprocessing import MinMaxScaler"
      ],
      "metadata": {
        "id": "O23J0YcfByrw"
      },
      "execution_count": 3,
      "outputs": []
    },
    {
      "cell_type": "markdown",
      "source": [
        "# Loading & Preprocessing data"
      ],
      "metadata": {
        "id": "oOZ_hJjTE3Sj"
      }
    },
    {
      "cell_type": "code",
      "source": [
        "# loading data\n",
        "bitstamp_raw_data = pd.read_csv(os.path.join('/content/sample_data/bitstampUSD_1-min_data_2012-01-01_to_2020-04-22.csv.zip'))\n",
        "coinbase_raw_data = pd.read_csv(os.path.join('/content/sample_data/coinbaseUSD_1-min_data_2014-12-01_to_2019-01-09.csv.zip'))\n",
        "\n",
        "# checking if loaded correctly\n",
        "print(\"Bitstamp Data Loaded:\")\n",
        "print(bitstamp_raw_data.head())\n",
        "print(\"Shape:\", bitstamp_raw_data.shape)\n",
        "print(\"\\nCoinbase Data Loaded:\")\n",
        "print(coinbase_raw_data.head())\n",
        "print(\"Shape:\", coinbase_raw_data.shape)\n",
        "\n",
        "# dropping NaN values\n",
        "bitstamp_raw_data = bitstamp_raw_data.dropna()\n",
        "coinbase_raw_data = coinbase_raw_data.dropna()\n",
        "# checking if dropped correctly\n",
        "print(\"NaN Values Dropped Correctly.\")\n",
        "\n",
        "def preprocess_data(df, filename):\n",
        "   # drop rows with NaN values\n",
        "   df = df.dropna(subset=['Close'])\n",
        "\n",
        "   # select the column to predict\n",
        "   data_to_use = df['Close'].values\n",
        "\n",
        "   # reshape the data\n",
        "   data_to_use = np.reshape(data_to_use, (-1, 1))\n",
        "\n",
        "   # normalize the data\n",
        "   scaler = MinMaxScaler()\n",
        "   data_to_use = scaler.fit_transform(data_to_use)\n",
        "\n",
        "   # save preprocessed data to a file\n",
        "   np.save(filename, data_to_use)\n",
        "\n",
        "# preprocess data\n",
        "preprocess_data(bitstamp_raw_data, 'bitstamp_preprocessed_data_v2.npy')\n",
        "preprocess_data(coinbase_raw_data, 'coinbase_preprocessed_data_v2.npy')\n",
        "\n",
        "# Load preprocessed data\n",
        "bitstamp_preprocessed_data_v2 = np.load('bitstamp_preprocessed_data_v2.npy')\n",
        "coinbase_preprocessed_data_v2 = np.load('coinbase_preprocessed_data_v2.npy')\n",
        "\n",
        "# Check for NaN values in the preprocessed data\n",
        "print(\"Checking for NaN values in preprocessed data...\")\n",
        "print(\"Bitstamp preprocessed data has NaN values:\", np.isnan(bitstamp_preprocessed_data_v2).any())\n",
        "print(\"Coinbase preprocessed data has NaN values:\", np.isnan(coinbase_preprocessed_data_v2).any())\n",
        "\n",
        "# Print preprocessed data\n",
        "print(bitstamp_preprocessed_data_v2)\n",
        "print(coinbase_preprocessed_data_v2)"
      ],
      "metadata": {
        "colab": {
          "base_uri": "https://localhost:8080/"
        },
        "id": "39Sh1vaYE5G-",
        "outputId": "3516cf02-042d-4c81-e255-b726d439f606"
      },
      "execution_count": 5,
      "outputs": [
        {
          "output_type": "stream",
          "name": "stdout",
          "text": [
            "Bitstamp Data Loaded:\n",
            "    Timestamp  Open  High   Low  Close  Volume_(BTC)  Volume_(Currency)  \\\n",
            "0  1325317920  4.39  4.39  4.39   4.39      0.455581                2.0   \n",
            "1  1325317980   NaN   NaN   NaN    NaN           NaN                NaN   \n",
            "2  1325318040   NaN   NaN   NaN    NaN           NaN                NaN   \n",
            "3  1325318100   NaN   NaN   NaN    NaN           NaN                NaN   \n",
            "4  1325318160   NaN   NaN   NaN    NaN           NaN                NaN   \n",
            "\n",
            "   Weighted_Price  \n",
            "0            4.39  \n",
            "1             NaN  \n",
            "2             NaN  \n",
            "3             NaN  \n",
            "4             NaN  \n",
            "Shape: (4363457, 8)\n",
            "\n",
            "Coinbase Data Loaded:\n",
            "    Timestamp   Open   High    Low  Close  Volume_(BTC)  Volume_(Currency)  \\\n",
            "0  1417411980  300.0  300.0  300.0  300.0          0.01                3.0   \n",
            "1  1417412040    NaN    NaN    NaN    NaN           NaN                NaN   \n",
            "2  1417412100    NaN    NaN    NaN    NaN           NaN                NaN   \n",
            "3  1417412160    NaN    NaN    NaN    NaN           NaN                NaN   \n",
            "4  1417412220    NaN    NaN    NaN    NaN           NaN                NaN   \n",
            "\n",
            "   Weighted_Price  \n",
            "0           300.0  \n",
            "1             NaN  \n",
            "2             NaN  \n",
            "3             NaN  \n",
            "4             NaN  \n",
            "Shape: (2099760, 8)\n",
            "NaN Values Dropped Correctly.\n",
            "Checking for NaN values in preprocessed data...\n",
            "Bitstamp preprocessed data has NaN values: False\n",
            "Coinbase preprocessed data has NaN values: False\n",
            "[[1.46967212e-04]\n",
            " [1.46967212e-04]\n",
            " [1.56120879e-04]\n",
            " ...\n",
            " [3.48650470e-01]\n",
            " [3.48524861e-01]\n",
            " [3.48302122e-01]]\n",
            "[[0.01507848]\n",
            " [0.01507848]\n",
            " [0.01859749]\n",
            " ...\n",
            " [0.20138569]\n",
            " [0.20136005]\n",
            " [0.20138468]]\n"
          ]
        }
      ]
    },
    {
      "cell_type": "markdown",
      "source": [
        "# Task 0. From Numpy | 0-from_numpy.py"
      ],
      "metadata": {
        "id": "mFg12rMOF0F2"
      }
    },
    {
      "cell_type": "code",
      "source": [
        "def from_numpy(array):\n",
        "    \"\"\"Creates a pd.DataFrame from a np.ndarray with columns labeled in alphabetical order and capitalized\"\"\"\n",
        "    import pandas as pd\n",
        "\n",
        "    # Generating column labels based on the shape of the array\n",
        "    # there are 26 letters in the English alphabet, so we limit it to that\n",
        "    column_labels = [chr(i) for i in range(65, 65 + array.shape[1])]\n",
        "\n",
        "    # Creating the DataFrame\n",
        "    df = pd.DataFrame(array, columns=column_labels)\n",
        "\n",
        "    return df"
      ],
      "metadata": {
        "id": "FLLIB-pTF_Bx"
      },
      "execution_count": 6,
      "outputs": []
    },
    {
      "cell_type": "markdown",
      "source": [
        "### Testing Task 0. | 0-main.py"
      ],
      "metadata": {
        "id": "X2G6Ae6BGsJo"
      }
    },
    {
      "cell_type": "code",
      "source": [
        "np.random.seed(0)\n",
        "A = np.random.randn(5, 8)\n",
        "print(from_numpy(A))\n",
        "B = np.random.randn(9, 3)\n",
        "print(from_numpy(B))"
      ],
      "metadata": {
        "colab": {
          "base_uri": "https://localhost:8080/"
        },
        "id": "PxCKajC5GziV",
        "outputId": "baf08004-e3ae-474d-8996-a22e61d7d066"
      },
      "execution_count": 7,
      "outputs": [
        {
          "output_type": "stream",
          "name": "stdout",
          "text": [
            "          A         B         C         D         E         F         G  \\\n",
            "0  1.764052  0.400157  0.978738  2.240893  1.867558 -0.977278  0.950088   \n",
            "1 -0.103219  0.410599  0.144044  1.454274  0.761038  0.121675  0.443863   \n",
            "2  1.494079 -0.205158  0.313068 -0.854096 -2.552990  0.653619  0.864436   \n",
            "3  2.269755 -1.454366  0.045759 -0.187184  1.532779  1.469359  0.154947   \n",
            "4 -0.887786 -1.980796 -0.347912  0.156349  1.230291  1.202380 -0.387327   \n",
            "\n",
            "          H  \n",
            "0 -0.151357  \n",
            "1  0.333674  \n",
            "2 -0.742165  \n",
            "3  0.378163  \n",
            "4 -0.302303  \n",
            "          A         B         C\n",
            "0 -1.048553 -1.420018 -1.706270\n",
            "1  1.950775 -0.509652 -0.438074\n",
            "2 -1.252795  0.777490 -1.613898\n",
            "3 -0.212740 -0.895467  0.386902\n",
            "4 -0.510805 -1.180632 -0.028182\n",
            "5  0.428332  0.066517  0.302472\n",
            "6 -0.634322 -0.362741 -0.672460\n",
            "7 -0.359553 -0.813146 -1.726283\n",
            "8  0.177426 -0.401781 -1.630198\n"
          ]
        }
      ]
    },
    {
      "cell_type": "markdown",
      "source": [
        "# Task 1. From Dictionary | 1-from_dictionary.py"
      ],
      "metadata": {
        "id": "b5hL1UYBH3QB"
      }
    },
    {
      "cell_type": "code",
      "source": [
        "# creates the dictionary with specified values\n",
        "data_dict = {\n",
        "    \"First\": [0.0, 0.5, 1.0, 1.5],\n",
        "    \"Second\": [\"one\", \"two\", \"three\", \"four\"]\n",
        "}\n",
        "\n",
        "# Create the DataFrame from the dictionary\n",
        "df = pd.DataFrame(data_dict)\n",
        "\n",
        "# Set the row labels aka index\n",
        "df.index = [\"A\", \"B\", \"C\", \"D\"]"
      ],
      "metadata": {
        "id": "NHAZE90eH27Q"
      },
      "execution_count": 8,
      "outputs": []
    },
    {
      "cell_type": "markdown",
      "source": [
        "### Testing Task 1. | 1-main.py"
      ],
      "metadata": {
        "id": "LHqBSuyQIhCK"
      }
    },
    {
      "cell_type": "code",
      "source": [
        "print(df)"
      ],
      "metadata": {
        "colab": {
          "base_uri": "https://localhost:8080/"
        },
        "id": "qUX24WKIIl8K",
        "outputId": "d6574ef2-ee11-4138-e53a-5559efbbd722"
      },
      "execution_count": 9,
      "outputs": [
        {
          "output_type": "stream",
          "name": "stdout",
          "text": [
            "   First Second\n",
            "A    0.0    one\n",
            "B    0.5    two\n",
            "C    1.0  three\n",
            "D    1.5   four\n"
          ]
        }
      ]
    },
    {
      "cell_type": "markdown",
      "source": [],
      "metadata": {
        "id": "DH597PNTI0VA"
      }
    },
    {
      "cell_type": "markdown",
      "source": [
        "# Task 2. From File | 2-from_file.py"
      ],
      "metadata": {
        "id": "xTMCC5u3I0jn"
      }
    },
    {
      "cell_type": "code",
      "source": [
        "def from_file(filename, delimiter):\n",
        "    \"\"\"Loads data from a file into a pd.DataFrame\"\"\"\n",
        "    import pandas as pd\n",
        "\n",
        "    # laoding the data into a DataFrame\n",
        "    df = pd.read_csv(filename, delimiter=delimiter)\n",
        "\n",
        "    return df"
      ],
      "metadata": {
        "id": "gidb02cxI7Br"
      },
      "execution_count": 10,
      "outputs": []
    },
    {
      "cell_type": "markdown",
      "source": [
        "### Testing Task 2. | 2-main.py"
      ],
      "metadata": {
        "id": "YxMVLqGoJxPM"
      }
    },
    {
      "cell_type": "code",
      "source": [
        "coinbase_raw_data = from_file('/content/sample_data/coinbaseUSD_1-min_data_2014-12-01_to_2019-01-09.csv.zip', ',')\n",
        "bitstamp_raw_data = from_file('/content/sample_data/bitstampUSD_1-min_data_2012-01-01_to_2020-04-22.csv.zip', ',')\n",
        "print(\"Coinbase Data Loaded:\")\n",
        "print(coinbase_raw_data.head())\n",
        "print(\"\\nBitstamp Data Loaded:\")\n",
        "print(bitstamp_raw_data.head())"
      ],
      "metadata": {
        "colab": {
          "base_uri": "https://localhost:8080/"
        },
        "id": "RU6xivZhJ12g",
        "outputId": "e9e30507-217c-4f4e-9da0-c49285c60507"
      },
      "execution_count": 13,
      "outputs": [
        {
          "output_type": "stream",
          "name": "stdout",
          "text": [
            "Coinbase Data Loaded:\n",
            "    Timestamp   Open   High    Low  Close  Volume_(BTC)  Volume_(Currency)  \\\n",
            "0  1417411980  300.0  300.0  300.0  300.0          0.01                3.0   \n",
            "1  1417412040    NaN    NaN    NaN    NaN           NaN                NaN   \n",
            "2  1417412100    NaN    NaN    NaN    NaN           NaN                NaN   \n",
            "3  1417412160    NaN    NaN    NaN    NaN           NaN                NaN   \n",
            "4  1417412220    NaN    NaN    NaN    NaN           NaN                NaN   \n",
            "\n",
            "   Weighted_Price  \n",
            "0           300.0  \n",
            "1             NaN  \n",
            "2             NaN  \n",
            "3             NaN  \n",
            "4             NaN  \n",
            "\n",
            "Bitstamp Data Loaded:\n",
            "    Timestamp  Open  High   Low  Close  Volume_(BTC)  Volume_(Currency)  \\\n",
            "0  1325317920  4.39  4.39  4.39   4.39      0.455581                2.0   \n",
            "1  1325317980   NaN   NaN   NaN    NaN           NaN                NaN   \n",
            "2  1325318040   NaN   NaN   NaN    NaN           NaN                NaN   \n",
            "3  1325318100   NaN   NaN   NaN    NaN           NaN                NaN   \n",
            "4  1325318160   NaN   NaN   NaN    NaN           NaN                NaN   \n",
            "\n",
            "   Weighted_Price  \n",
            "0            4.39  \n",
            "1             NaN  \n",
            "2             NaN  \n",
            "3             NaN  \n",
            "4             NaN  \n"
          ]
        }
      ]
    },
    {
      "cell_type": "markdown",
      "source": [
        "# Task 3. Rename | 3-rename.py"
      ],
      "metadata": {
        "id": "6WzlecAlLxKg"
      }
    },
    {
      "cell_type": "code",
      "source": [
        "print(coinbase_raw_data.columns)"
      ],
      "metadata": {
        "colab": {
          "base_uri": "https://localhost:8080/"
        },
        "id": "i4DYxvJRMwdT",
        "outputId": "85ca20b2-4dd1-4b91-ad93-b104967bdfcd"
      },
      "execution_count": 28,
      "outputs": [
        {
          "output_type": "stream",
          "name": "stdout",
          "text": [
            "Index(['Datetime', 'Open', 'High', 'Low', 'Close', 'Volume_(BTC)',\n",
            "       'Volume_(Currency)', 'Weighted_Price'],\n",
            "      dtype='object')\n"
          ]
        }
      ]
    },
    {
      "cell_type": "code",
      "source": [
        "filtered_df = coinbase_raw_data[['Datetime', 'Close']]\n",
        "\n",
        "# renaming the column 'Timestamp' to 'Datetime'\n",
        "coinbase_raw_data.rename(columns={'Timestamp': 'Datetime'}, inplace=True)\n",
        "\n",
        "# converting the 'Datetime' column from Unix timestamp to datetime format\n",
        "coinbase_raw_data['Datetime'] = pd.to_datetime(coinbase_raw_data['Datetime'], unit='s')\n",
        "\n",
        "# displaying only the 'Datetime' and 'Close' columns\n",
        "filtered_df = coinbase_raw_data[['Datetime', 'Close']]\n",
        "print(filtered_df.tail())"
      ],
      "metadata": {
        "colab": {
          "base_uri": "https://localhost:8080/"
        },
        "id": "vYCbgwtoL1Qh",
        "outputId": "05f6d8a7-6e74-475d-dd28-623ad915632c"
      },
      "execution_count": 22,
      "outputs": [
        {
          "output_type": "stream",
          "name": "stdout",
          "text": [
            "                   Datetime    Close\n",
            "2099755 2019-01-07 22:02:00  4006.01\n",
            "2099756 2019-01-07 22:03:00  4006.01\n",
            "2099757 2019-01-07 22:04:00  4006.01\n",
            "2099758 2019-01-07 22:05:00  4005.50\n",
            "2099759 2019-01-07 22:06:00  4005.99\n"
          ]
        }
      ]
    },
    {
      "cell_type": "markdown",
      "source": [
        "# Task 4. To Numpy | 4-array.py"
      ],
      "metadata": {
        "id": "asfxCp88Neov"
      }
    },
    {
      "cell_type": "code",
      "source": [
        "# selectinmg the last 10 rows of the 'High' and 'Close' columns\n",
        "selected_data = coinbase_raw_data[['High', 'Close']].tail(10)\n",
        "\n",
        "# converting the selected portion into a numpy.ndarray\n",
        "A = selected_data.values\n",
        "\n",
        "print(A)"
      ],
      "metadata": {
        "colab": {
          "base_uri": "https://localhost:8080/"
        },
        "id": "Sb-FG3XoOEKo",
        "outputId": "bd13e29a-c072-47fc-8d39-697cf185c6d2"
      },
      "execution_count": 29,
      "outputs": [
        {
          "output_type": "stream",
          "name": "stdout",
          "text": [
            "[[4009.54 4007.01]\n",
            " [4007.01 4003.49]\n",
            " [4007.29 4006.57]\n",
            " [4006.57 4006.56]\n",
            " [4006.57 4006.01]\n",
            " [4006.57 4006.01]\n",
            " [4006.57 4006.01]\n",
            " [4006.01 4006.01]\n",
            " [4006.01 4005.5 ]\n",
            " [4006.01 4005.99]]\n"
          ]
        }
      ]
    },
    {
      "cell_type": "markdown",
      "source": [
        "# Task 5. Slice | 5-slice.py"
      ],
      "metadata": {
        "id": "dP7vQSbpPVYq"
      }
    },
    {
      "cell_type": "code",
      "source": [
        "# selecting the specified columns\n",
        "selected_columns = coinbase_raw_data[['High', 'Low', 'Close', 'Volume_(BTC)']]\n",
        "\n",
        "# slicing to take every 60th row\n",
        "sliced_df = selected_columns.iloc[::60, :]\n",
        "\n",
        "print(sliced_df.tail())"
      ],
      "metadata": {
        "colab": {
          "base_uri": "https://localhost:8080/"
        },
        "id": "r3I_KObyPIBx",
        "outputId": "3861f958-a602-467f-bf85-0f114462b078"
      },
      "execution_count": 30,
      "outputs": [
        {
          "output_type": "stream",
          "name": "stdout",
          "text": [
            "            High      Low    Close  Volume_(BTC)\n",
            "2099460  4020.08  4020.07  4020.08      4.704989\n",
            "2099520  4020.94  4020.93  4020.94      2.111411\n",
            "2099580  4020.00  4019.01  4020.00      4.637035\n",
            "2099640  4017.00  4016.99  4017.00      2.362372\n",
            "2099700  4014.78  4013.50  4014.72      1.291557\n"
          ]
        }
      ]
    },
    {
      "cell_type": "markdown",
      "source": [
        "# Task 6. Flip it and Switch it | 6-flip_switch.py"
      ],
      "metadata": {
        "id": "XGF2llu2PaIC"
      }
    },
    {
      "cell_type": "code",
      "source": [
        "# transposing the DataFrame\n",
        "df_transposed = sliced_df.T\n",
        "\n",
        "# sort chronologically\n",
        "df_sorted = df_transposed.sort_index(axis=1, ascending=False)\n",
        "\n",
        "print(df_transposed.tail(8))"
      ],
      "metadata": {
        "colab": {
          "base_uri": "https://localhost:8080/"
        },
        "id": "sckhZZpeQfkX",
        "outputId": "e6f05237-1dc3-49f8-dd1d-3ab15917d172"
      },
      "execution_count": 33,
      "outputs": [
        {
          "output_type": "stream",
          "name": "stdout",
          "text": [
            "              0        60       120      180      240      300      360      \\\n",
            "High           300.00      NaN      NaN      NaN      NaN      NaN      NaN   \n",
            "Low            300.00      NaN      NaN      NaN      NaN      NaN      NaN   \n",
            "Close          300.00      NaN      NaN      NaN      NaN      NaN      NaN   \n",
            "Volume_(BTC)     0.01      NaN      NaN      NaN      NaN      NaN      NaN   \n",
            "\n",
            "              420      480      540      ...      2099160      2099220  \\\n",
            "High              NaN      NaN      NaN  ...  4019.510000  4010.500000   \n",
            "Low               NaN      NaN      NaN  ...  4019.500000  4010.490000   \n",
            "Close             NaN      NaN      NaN  ...  4019.510000  4010.490000   \n",
            "Volume_(BTC)      NaN      NaN      NaN  ...     0.229088     2.148034   \n",
            "\n",
            "                  2099280      2099340      2099400      2099460      2099520  \\\n",
            "High          4024.000000  4030.000000  4011.000000  4020.080000  4020.940000   \n",
            "Low           4018.510000  4028.880000  4010.990000  4020.070000  4020.930000   \n",
            "Close         4024.000000  4028.890000  4011.000000  4020.080000  4020.940000   \n",
            "Volume_(BTC)    18.135253     5.430419     0.826066     4.704989     2.111411   \n",
            "\n",
            "                  2099580      2099640      2099700  \n",
            "High          4020.000000  4017.000000  4014.780000  \n",
            "Low           4019.010000  4016.990000  4013.500000  \n",
            "Close         4020.000000  4017.000000  4014.720000  \n",
            "Volume_(BTC)     4.637035     2.362372     1.291557  \n",
            "\n",
            "[4 rows x 34996 columns]\n"
          ]
        }
      ]
    },
    {
      "cell_type": "markdown",
      "source": [
        "# Task 7. Sort | 7-high.py"
      ],
      "metadata": {
        "id": "7D2axjPjXqND"
      }
    },
    {
      "cell_type": "code",
      "source": [
        "# sorting\n",
        "sorted_df = sliced_df.sort_values(by='High', ascending=False)\n",
        "\n",
        "print(sorted_df.head())"
      ],
      "metadata": {
        "colab": {
          "base_uri": "https://localhost:8080/"
        },
        "id": "h3ngJKlQahYe",
        "outputId": "46454bcc-96a9-49a8-f33a-ce6e5d0eb2b1"
      },
      "execution_count": 34,
      "outputs": [
        {
          "output_type": "stream",
          "name": "stdout",
          "text": [
            "             High       Low     Close  Volume_(BTC)\n",
            "1543320  19867.00  19850.00  19867.00      8.919281\n",
            "1543440  19790.52  19790.51  19790.51      3.168317\n",
            "1543260  19772.60  19750.00  19772.60     21.586600\n",
            "1543080  19746.00  19745.99  19746.00      5.902266\n",
            "1543200  19736.80  19731.06  19736.01      2.628802\n"
          ]
        }
      ]
    },
    {
      "cell_type": "markdown",
      "source": [
        "# Task 8. Prune | 8-prune.py"
      ],
      "metadata": {
        "id": "AAIicI3taz1E"
      }
    },
    {
      "cell_type": "code",
      "source": [
        "# pruning\n",
        "pruned_df = sliced_df.dropna(subset=['Close'])\n",
        "\n",
        "print(pruned_df.head())"
      ],
      "metadata": {
        "colab": {
          "base_uri": "https://localhost:8080/"
        },
        "id": "QMrIHU3qay-J",
        "outputId": "12151bd5-e40a-4b80-cc00-9ec5a41b3b6a"
      },
      "execution_count": 35,
      "outputs": [
        {
          "output_type": "stream",
          "name": "stdout",
          "text": [
            "        High     Low   Close  Volume_(BTC)\n",
            "0     300.00  300.00  300.00          0.01\n",
            "4140  337.90  279.37  337.90          0.03\n",
            "4200  311.56  275.67  275.67          0.03\n",
            "4260  293.67  290.78  293.67          0.02\n",
            "4320  299.61  294.02  299.61          0.03\n"
          ]
        }
      ]
    },
    {
      "cell_type": "markdown",
      "source": [
        "# Task 9. Fill | 9-fill.py"
      ],
      "metadata": {
        "id": "rb6br_EHbQv8"
      }
    },
    {
      "cell_type": "code",
      "source": [
        "print(sliced_df.columns)"
      ],
      "metadata": {
        "colab": {
          "base_uri": "https://localhost:8080/"
        },
        "id": "V8ubglstcCmh",
        "outputId": "7d05f619-cb2c-45f4-bc8b-559d63d59b40"
      },
      "execution_count": 40,
      "outputs": [
        {
          "output_type": "stream",
          "name": "stdout",
          "text": [
            "Index(['High', 'Low', 'Close', 'Volume_(BTC)'], dtype='object')\n"
          ]
        }
      ]
    },
    {
      "cell_type": "code",
      "source": [
        "# filling missing values in 'Close' with the previous row's value\n",
        "sliced_df['Close'] = sliced_df['Close'].fillna(method='ffill')\n",
        "\n",
        "# filling missing values in 'High', 'Low', 'Open' with the same row's 'Close' value\n",
        "sliced_df['High'] = sliced_df['High'].fillna(sliced_df['Close'])\n",
        "sliced_df['Low'] = sliced_df['Low'].fillna(sliced_df['Close'])\n",
        "\n",
        "# filling missing values in 'Volume_(BTC)' and 'Volume_(Currency)' with 0\n",
        "sliced_df['Volume_(BTC)'] = sliced_df['Volume_(BTC)'].fillna(0)\n",
        "\n",
        "print(sliced_df.head())\n",
        "print(sliced_df.tail())"
      ],
      "metadata": {
        "colab": {
          "base_uri": "https://localhost:8080/"
        },
        "id": "rEIFIhjVbUd8",
        "outputId": "8c90a59f-6416-4e75-9230-fae5e879f836"
      },
      "execution_count": 44,
      "outputs": [
        {
          "output_type": "stream",
          "name": "stdout",
          "text": [
            "      High    Low  Close  Volume_(BTC)\n",
            "0    300.0  300.0  300.0          0.01\n",
            "60   300.0  300.0  300.0          0.00\n",
            "120  300.0  300.0  300.0          0.00\n",
            "180  300.0  300.0  300.0          0.00\n",
            "240  300.0  300.0  300.0          0.00\n",
            "            High      Low    Close  Volume_(BTC)\n",
            "2099640  4017.00  4016.99  4017.00      2.362372\n",
            "2099700  4014.78  4013.50  4014.72      1.291557\n",
            "Close    4014.72  4014.72  4014.72      0.000000\n",
            "High     4014.72  4014.72  4014.72      0.000000\n",
            "Low      4014.72  4014.72  4014.72      0.000000\n"
          ]
        },
        {
          "output_type": "stream",
          "name": "stderr",
          "text": [
            "<ipython-input-44-af8eaa93782f>:2: SettingWithCopyWarning: \n",
            "A value is trying to be set on a copy of a slice from a DataFrame.\n",
            "Try using .loc[row_indexer,col_indexer] = value instead\n",
            "\n",
            "See the caveats in the documentation: https://pandas.pydata.org/pandas-docs/stable/user_guide/indexing.html#returning-a-view-versus-a-copy\n",
            "  sliced_df['Close'] = sliced_df['Close'].fillna(method='ffill')\n",
            "<ipython-input-44-af8eaa93782f>:5: SettingWithCopyWarning: \n",
            "A value is trying to be set on a copy of a slice from a DataFrame.\n",
            "Try using .loc[row_indexer,col_indexer] = value instead\n",
            "\n",
            "See the caveats in the documentation: https://pandas.pydata.org/pandas-docs/stable/user_guide/indexing.html#returning-a-view-versus-a-copy\n",
            "  sliced_df['High'] = sliced_df['High'].fillna(sliced_df['Close'])\n",
            "<ipython-input-44-af8eaa93782f>:6: SettingWithCopyWarning: \n",
            "A value is trying to be set on a copy of a slice from a DataFrame.\n",
            "Try using .loc[row_indexer,col_indexer] = value instead\n",
            "\n",
            "See the caveats in the documentation: https://pandas.pydata.org/pandas-docs/stable/user_guide/indexing.html#returning-a-view-versus-a-copy\n",
            "  sliced_df['Low'] = sliced_df['Low'].fillna(sliced_df['Close'])\n",
            "<ipython-input-44-af8eaa93782f>:9: SettingWithCopyWarning: \n",
            "A value is trying to be set on a copy of a slice from a DataFrame.\n",
            "Try using .loc[row_indexer,col_indexer] = value instead\n",
            "\n",
            "See the caveats in the documentation: https://pandas.pydata.org/pandas-docs/stable/user_guide/indexing.html#returning-a-view-versus-a-copy\n",
            "  sliced_df['Volume_(BTC)'] = sliced_df['Volume_(BTC)'].fillna(0)\n"
          ]
        }
      ]
    },
    {
      "cell_type": "markdown",
      "source": [
        "# Task 10. Indexing | 10-index.py"
      ],
      "metadata": {
        "id": "BgktO593dKCV"
      }
    },
    {
      "cell_type": "code",
      "source": [
        "print(coinbase_raw_data.columns)"
      ],
      "metadata": {
        "colab": {
          "base_uri": "https://localhost:8080/"
        },
        "id": "nm4t9lQNdPUJ",
        "outputId": "f8b42197-bce9-437b-9cc6-8383e1a80d7c"
      },
      "execution_count": 45,
      "outputs": [
        {
          "output_type": "stream",
          "name": "stdout",
          "text": [
            "Index(['Datetime', 'Open', 'High', 'Low', 'Close', 'Volume_(BTC)',\n",
            "       'Volume_(Currency)', 'Weighted_Price'],\n",
            "      dtype='object')\n"
          ]
        }
      ]
    },
    {
      "cell_type": "code",
      "source": [
        "# setting 'Datetime' as the index of the DataFrame\n",
        "coinbase_raw_data.set_index('Datetime', inplace=True)\n",
        "\n",
        "# so now 'Datetime' is the index\n",
        "print(coinbase_raw_data.tail())"
      ],
      "metadata": {
        "colab": {
          "base_uri": "https://localhost:8080/"
        },
        "id": "5fL3KkVzkd-y",
        "outputId": "9ff83fc7-dd46-485b-af7c-d9afd995d9d3"
      },
      "execution_count": 46,
      "outputs": [
        {
          "output_type": "stream",
          "name": "stdout",
          "text": [
            "                        Open     High      Low    Close  Volume_(BTC)  \\\n",
            "Datetime                                                                \n",
            "2019-01-07 22:02:00  4006.01  4006.57  4006.00  4006.01      3.382954   \n",
            "2019-01-07 22:03:00  4006.01  4006.57  4006.00  4006.01      0.902164   \n",
            "2019-01-07 22:04:00  4006.01  4006.01  4006.00  4006.01      1.192123   \n",
            "2019-01-07 22:05:00  4006.01  4006.01  4005.50  4005.50      2.699700   \n",
            "2019-01-07 22:06:00  4005.51  4006.01  4005.51  4005.99      1.752778   \n",
            "\n",
            "                     Volume_(Currency)  Weighted_Price  \n",
            "Datetime                                                \n",
            "2019-01-07 22:02:00       13553.433078     4006.390309  \n",
            "2019-01-07 22:03:00        3614.083168     4006.017232  \n",
            "2019-01-07 22:04:00        4775.647308     4006.003635  \n",
            "2019-01-07 22:05:00       10814.241898     4005.719991  \n",
            "2019-01-07 22:06:00        7021.183546     4005.745614  \n"
          ]
        }
      ]
    },
    {
      "cell_type": "markdown",
      "source": [
        "# Task 11. Concat | 11-concat.py"
      ],
      "metadata": {
        "id": "4yBJ6dgUmmU7"
      }
    },
    {
      "cell_type": "code",
      "source": [
        "print(coinbase_raw_data.columns)\n",
        "print(bitstamp_raw_data.columns)"
      ],
      "metadata": {
        "colab": {
          "base_uri": "https://localhost:8080/"
        },
        "id": "odZ6545umr5Q",
        "outputId": "67d9e11f-ad94-44eb-9673-81bc814f3b7e"
      },
      "execution_count": 50,
      "outputs": [
        {
          "output_type": "stream",
          "name": "stdout",
          "text": [
            "Index(['Open', 'High', 'Low', 'Close', 'Volume_(BTC)', 'Volume_(Currency)',\n",
            "       'Weighted_Price'],\n",
            "      dtype='object')\n",
            "Index(['Timestamp', 'Open', 'High', 'Low', 'Close', 'Volume_(BTC)',\n",
            "       'Volume_(Currency)', 'Weighted_Price'],\n",
            "      dtype='object')\n"
          ]
        }
      ]
    },
    {
      "cell_type": "code",
      "source": [
        "# converting 'Timestamp' to datetime format and set as index for bitstamp_raw_data\n",
        "bitstamp_raw_data['Datetime'] = pd.to_datetime(bitstamp_raw_data['Timestamp'], unit='s')\n",
        "bitstamp_raw_data.set_index('Datetime', inplace=True)\n",
        "bitstamp_raw_data.drop(columns=['Timestamp'], inplace=True)\n",
        "\n",
        "# filster bitstamp_raw_data\n",
        "bitstamp_filtered = bitstamp_raw_data[bitstamp_raw_data.index <= pd.to_datetime(1417411920, unit='s')]\n",
        "\n",
        "# concat the filtered bitstamp data with coinbase data\n",
        "concat_df = pd.concat([bitstamp_filtered, coinbase_raw_data], keys=['bitstamp', 'coinbase'])\n",
        "\n",
        "print(concat_df)"
      ],
      "metadata": {
        "colab": {
          "base_uri": "https://localhost:8080/"
        },
        "id": "H8S6y6uxnsJ5",
        "outputId": "9195b163-6d13-4860-a6c8-35288baf6870"
      },
      "execution_count": 51,
      "outputs": [
        {
          "output_type": "stream",
          "name": "stdout",
          "text": [
            "                                 Open     High      Low    Close  \\\n",
            "         Datetime                                                  \n",
            "bitstamp 2011-12-31 07:52:00     4.39     4.39     4.39     4.39   \n",
            "         2011-12-31 07:53:00      NaN      NaN      NaN      NaN   \n",
            "         2011-12-31 07:54:00      NaN      NaN      NaN      NaN   \n",
            "         2011-12-31 07:55:00      NaN      NaN      NaN      NaN   \n",
            "         2011-12-31 07:56:00      NaN      NaN      NaN      NaN   \n",
            "...                               ...      ...      ...      ...   \n",
            "coinbase 2019-01-07 22:02:00  4006.01  4006.57  4006.00  4006.01   \n",
            "         2019-01-07 22:03:00  4006.01  4006.57  4006.00  4006.01   \n",
            "         2019-01-07 22:04:00  4006.01  4006.01  4006.00  4006.01   \n",
            "         2019-01-07 22:05:00  4006.01  4006.01  4005.50  4005.50   \n",
            "         2019-01-07 22:06:00  4005.51  4006.01  4005.51  4005.99   \n",
            "\n",
            "                              Volume_(BTC)  Volume_(Currency)  Weighted_Price  \n",
            "         Datetime                                                              \n",
            "bitstamp 2011-12-31 07:52:00      0.455581           2.000000        4.390000  \n",
            "         2011-12-31 07:53:00           NaN                NaN             NaN  \n",
            "         2011-12-31 07:54:00           NaN                NaN             NaN  \n",
            "         2011-12-31 07:55:00           NaN                NaN             NaN  \n",
            "         2011-12-31 07:56:00           NaN                NaN             NaN  \n",
            "...                                    ...                ...             ...  \n",
            "coinbase 2019-01-07 22:02:00      3.382954       13553.433078     4006.390309  \n",
            "         2019-01-07 22:03:00      0.902164        3614.083168     4006.017232  \n",
            "         2019-01-07 22:04:00      1.192123        4775.647308     4006.003635  \n",
            "         2019-01-07 22:05:00      2.699700       10814.241898     4005.719991  \n",
            "         2019-01-07 22:06:00      1.752778        7021.183546     4005.745614  \n",
            "\n",
            "[3634661 rows x 7 columns]\n"
          ]
        }
      ]
    },
    {
      "cell_type": "markdown",
      "source": [
        "# Task 12. Hierarchy | 12-hierarchy.py"
      ],
      "metadata": {
        "id": "GNTXskO9oIGi"
      }
    },
    {
      "cell_type": "code",
      "source": [
        "# converting the specified timestamps to datetime objects for filtering\n",
        "start_datetime = pd.to_datetime(1417411980, unit='s')\n",
        "end_datetime = pd.to_datetime(1417417980, unit='s')\n",
        "\n",
        "# filtering both DataFrames for the specified datetime range\n",
        "bitstamp_filtered = bitstamp_raw_data.loc[start_datetime:end_datetime]\n",
        "coinbase_filtered = coinbase_raw_data.loc[start_datetime:end_datetime]\n",
        "\n",
        "# concat the filtered DataFrames and adding keys for each source\n",
        "concatenated_df = pd.concat([bitstamp_filtered, coinbase_filtered], keys=['bitstamp', 'coinbase'])\n",
        "\n",
        "# ensure that it's chronologically ordered\n",
        "concatenated_df = concatenated_df.sort_index()\n",
        "\n",
        "print(concatenated_df)"
      ],
      "metadata": {
        "colab": {
          "base_uri": "https://localhost:8080/"
        },
        "id": "6tC0afxqoM4f",
        "outputId": "71608fff-39c8-4222-c168-3a2972ccfc80"
      },
      "execution_count": 52,
      "outputs": [
        {
          "output_type": "stream",
          "name": "stdout",
          "text": [
            "                                Open   High     Low  Close  Volume_(BTC)  \\\n",
            "         Datetime                                                          \n",
            "bitstamp 2014-12-01 05:33:00  379.99  380.0  379.99  380.0      3.901265   \n",
            "         2014-12-01 05:34:00  380.00  380.0  380.00  380.0     35.249895   \n",
            "         2014-12-01 05:35:00  380.00  380.0  380.00  380.0      3.712000   \n",
            "         2014-12-01 05:36:00  379.93  380.0  379.93  380.0     13.451000   \n",
            "         2014-12-01 05:37:00  380.00  380.0  380.00  380.0      1.693000   \n",
            "...                              ...    ...     ...    ...           ...   \n",
            "coinbase 2014-12-01 07:09:00     NaN    NaN     NaN    NaN           NaN   \n",
            "         2014-12-01 07:10:00     NaN    NaN     NaN    NaN           NaN   \n",
            "         2014-12-01 07:11:00     NaN    NaN     NaN    NaN           NaN   \n",
            "         2014-12-01 07:12:00     NaN    NaN     NaN    NaN           NaN   \n",
            "         2014-12-01 07:13:00     NaN    NaN     NaN    NaN           NaN   \n",
            "\n",
            "                              Volume_(Currency)  Weighted_Price  \n",
            "         Datetime                                                \n",
            "bitstamp 2014-12-01 05:33:00        1482.461708      379.995162  \n",
            "         2014-12-01 05:34:00       13394.959997      380.000000  \n",
            "         2014-12-01 05:35:00        1410.560000      380.000000  \n",
            "         2014-12-01 05:36:00        5111.297890      379.993896  \n",
            "         2014-12-01 05:37:00         643.340000      380.000000  \n",
            "...                                         ...             ...  \n",
            "coinbase 2014-12-01 07:09:00                NaN             NaN  \n",
            "         2014-12-01 07:10:00                NaN             NaN  \n",
            "         2014-12-01 07:11:00                NaN             NaN  \n",
            "         2014-12-01 07:12:00                NaN             NaN  \n",
            "         2014-12-01 07:13:00                NaN             NaN  \n",
            "\n",
            "[202 rows x 7 columns]\n"
          ]
        }
      ]
    },
    {
      "cell_type": "markdown",
      "source": [
        "# Task 13. Analyze | 13-analyze.py"
      ],
      "metadata": {
        "id": "ud_YdZzbphYF"
      }
    },
    {
      "cell_type": "code",
      "source": [
        "stats = concatenated_df.describe()\n",
        "\n",
        "print(stats)"
      ],
      "metadata": {
        "colab": {
          "base_uri": "https://localhost:8080/"
        },
        "id": "icASighupnYb",
        "outputId": "4df2a9af-8220-44f4-8d1c-18fab71ef513"
      },
      "execution_count": 54,
      "outputs": [
        {
          "output_type": "stream",
          "name": "stdout",
          "text": [
            "             Open        High         Low       Close  Volume_(BTC)  \\\n",
            "count   99.000000   99.000000   99.000000   99.000000     99.000000   \n",
            "mean   378.172424  378.284545  377.937172  378.208687      5.592834   \n",
            "std     11.378471   11.392927   11.350562   11.384584      8.643884   \n",
            "min    300.000000  300.000000  300.000000  300.000000      0.010000   \n",
            "25%    379.930000  379.995000  379.150000  379.980000      1.420500   \n",
            "50%    380.140000  380.180000  379.990000  380.150000      2.218718   \n",
            "75%    380.190000  380.190000  380.180000  380.190000      5.559215   \n",
            "max    380.700000  380.700000  380.700000  380.700000     50.262040   \n",
            "\n",
            "       Volume_(Currency)  Weighted_Price  \n",
            "count          99.000000       99.000000  \n",
            "mean         2124.588520      378.106949  \n",
            "std          3284.300147       11.368875  \n",
            "min             3.000000      300.000000  \n",
            "25%           539.021021      379.654436  \n",
            "50%           842.353696      380.028256  \n",
            "75%          2113.122548      380.188634  \n",
            "max         19108.599489      380.700000  \n"
          ]
        }
      ]
    },
    {
      "cell_type": "markdown",
      "source": [
        "# Task 14. Visualize | 14-visualize.py"
      ],
      "metadata": {
        "id": "hWMhsQqlqIr6"
      }
    },
    {
      "cell_type": "code",
      "source": [
        "print(\"Bitstamp Data Head:\")\n",
        "print(bitstamp_raw_data.head())\n",
        "\n",
        "print(\"\\nBitstamp Data Tail:\")\n",
        "print(bitstamp_raw_data.tail())\n",
        "\n",
        "print(\"\\nCoinbase Data Head:\")\n",
        "print(coinbase_raw_data.head())\n",
        "\n",
        "print(\"\\nCoinbase Data Tail:\")\n",
        "print(coinbase_raw_data.tail())\n",
        "\n",
        "print(\"\\nConcatenated Data Head:\")\n",
        "print(concatenated_df.head())\n",
        "\n",
        "print(\"\\nConcatenated Data Tail:\")\n",
        "print(concatenated_df.tail())"
      ],
      "metadata": {
        "colab": {
          "base_uri": "https://localhost:8080/"
        },
        "id": "9lxdqedZsXkE",
        "outputId": "108b193e-dee9-4d35-d149-30ee8ebe05b4"
      },
      "execution_count": 64,
      "outputs": [
        {
          "output_type": "stream",
          "name": "stdout",
          "text": [
            "Bitstamp Data Head:\n",
            "                     Open  High   Low  Close  Volume_(BTC)  Volume_(Currency)  \\\n",
            "Datetime                                                                        \n",
            "2011-12-31 07:52:00  4.39  4.39  4.39   4.39      0.455581                2.0   \n",
            "2011-12-31 07:53:00   NaN   NaN   NaN    NaN           NaN                NaN   \n",
            "2011-12-31 07:54:00   NaN   NaN   NaN    NaN           NaN                NaN   \n",
            "2011-12-31 07:55:00   NaN   NaN   NaN    NaN           NaN                NaN   \n",
            "2011-12-31 07:56:00   NaN   NaN   NaN    NaN           NaN                NaN   \n",
            "\n",
            "                     Weighted_Price  \n",
            "Datetime                             \n",
            "2011-12-31 07:52:00            4.39  \n",
            "2011-12-31 07:53:00             NaN  \n",
            "2011-12-31 07:54:00             NaN  \n",
            "2011-12-31 07:55:00             NaN  \n",
            "2011-12-31 07:56:00             NaN  \n",
            "\n",
            "Bitstamp Data Tail:\n",
            "                        Open     High      Low    Close  Volume_(BTC)  \\\n",
            "Datetime                                                                \n",
            "2020-04-21 23:56:00  6847.97  6856.35  6847.97  6856.35      0.125174   \n",
            "2020-04-21 23:57:00  6850.23  6856.13  6850.23  6850.89      1.224777   \n",
            "2020-04-21 23:58:00  6846.50  6857.45  6846.02  6857.45      7.089168   \n",
            "2020-04-21 23:59:00  6854.18  6854.98  6854.18  6854.98      0.012231   \n",
            "2020-04-22 00:00:00  6850.60  6850.60  6850.60  6850.60      0.014436   \n",
            "\n",
            "                     Volume_(Currency)  Weighted_Price  \n",
            "Datetime                                                \n",
            "2020-04-21 23:56:00         858.128697     6855.498790  \n",
            "2020-04-21 23:57:00        8396.781459     6855.763449  \n",
            "2020-04-21 23:58:00       48533.089069     6846.090966  \n",
            "2020-04-21 23:59:00          83.831604     6854.195090  \n",
            "2020-04-22 00:00:00          98.896906     6850.600000  \n",
            "\n",
            "Coinbase Data Head:\n",
            "                      Open   High    Low  Close  Volume_(BTC)  \\\n",
            "Datetime                                                        \n",
            "2014-12-01 05:33:00  300.0  300.0  300.0  300.0          0.01   \n",
            "2014-12-01 05:34:00    NaN    NaN    NaN    NaN           NaN   \n",
            "2014-12-01 05:35:00    NaN    NaN    NaN    NaN           NaN   \n",
            "2014-12-01 05:36:00    NaN    NaN    NaN    NaN           NaN   \n",
            "2014-12-01 05:37:00    NaN    NaN    NaN    NaN           NaN   \n",
            "\n",
            "                     Volume_(Currency)  Weighted_Price  \n",
            "Datetime                                                \n",
            "2014-12-01 05:33:00                3.0           300.0  \n",
            "2014-12-01 05:34:00                NaN             NaN  \n",
            "2014-12-01 05:35:00                NaN             NaN  \n",
            "2014-12-01 05:36:00                NaN             NaN  \n",
            "2014-12-01 05:37:00                NaN             NaN  \n",
            "\n",
            "Coinbase Data Tail:\n",
            "                        Open     High      Low    Close  Volume_(BTC)  \\\n",
            "Datetime                                                                \n",
            "2019-01-07 22:02:00  4006.01  4006.57  4006.00  4006.01      3.382954   \n",
            "2019-01-07 22:03:00  4006.01  4006.57  4006.00  4006.01      0.902164   \n",
            "2019-01-07 22:04:00  4006.01  4006.01  4006.00  4006.01      1.192123   \n",
            "2019-01-07 22:05:00  4006.01  4006.01  4005.50  4005.50      2.699700   \n",
            "2019-01-07 22:06:00  4005.51  4006.01  4005.51  4005.99      1.752778   \n",
            "\n",
            "                     Volume_(Currency)  Weighted_Price  \n",
            "Datetime                                                \n",
            "2019-01-07 22:02:00       13553.433078     4006.390309  \n",
            "2019-01-07 22:03:00        3614.083168     4006.017232  \n",
            "2019-01-07 22:04:00        4775.647308     4006.003635  \n",
            "2019-01-07 22:05:00       10814.241898     4005.719991  \n",
            "2019-01-07 22:06:00        7021.183546     4005.745614  \n",
            "\n",
            "Concatenated Data Head:\n",
            "                                Open   High     Low  Close  Volume_(BTC)  \\\n",
            "         Datetime                                                          \n",
            "bitstamp 2014-12-01 05:33:00  379.99  380.0  379.99  380.0      3.901265   \n",
            "         2014-12-01 05:34:00  380.00  380.0  380.00  380.0     35.249895   \n",
            "         2014-12-01 05:35:00  380.00  380.0  380.00  380.0      3.712000   \n",
            "         2014-12-01 05:36:00  379.93  380.0  379.93  380.0     13.451000   \n",
            "         2014-12-01 05:37:00  380.00  380.0  380.00  380.0      1.693000   \n",
            "\n",
            "                              Volume_(Currency)  \n",
            "         Datetime                                \n",
            "bitstamp 2014-12-01 05:33:00        1482.461708  \n",
            "         2014-12-01 05:34:00       13394.959997  \n",
            "         2014-12-01 05:35:00        1410.560000  \n",
            "         2014-12-01 05:36:00        5111.297890  \n",
            "         2014-12-01 05:37:00         643.340000  \n",
            "\n",
            "Concatenated Data Tail:\n",
            "                              Open  High  Low  Close  Volume_(BTC)  \\\n",
            "         Datetime                                                    \n",
            "coinbase 2014-12-01 07:09:00   NaN   NaN  NaN  370.0           0.0   \n",
            "         2014-12-01 07:10:00   NaN   NaN  NaN  370.0           0.0   \n",
            "         2014-12-01 07:11:00   NaN   NaN  NaN  370.0           0.0   \n",
            "         2014-12-01 07:12:00   NaN   NaN  NaN  370.0           0.0   \n",
            "         2014-12-01 07:13:00   NaN   NaN  NaN  370.0           0.0   \n",
            "\n",
            "                              Volume_(Currency)  \n",
            "         Datetime                                \n",
            "coinbase 2014-12-01 07:09:00                0.0  \n",
            "         2014-12-01 07:10:00                0.0  \n",
            "         2014-12-01 07:11:00                0.0  \n",
            "         2014-12-01 07:12:00                0.0  \n",
            "         2014-12-01 07:13:00                0.0  \n"
          ]
        }
      ]
    },
    {
      "cell_type": "code",
      "source": [
        "import matplotlib.pyplot as plt\n",
        "import pandas as pd\n",
        "\n",
        "# removing 'Weighted_Price'\n",
        "bitstamp_df = bitstamp_raw_data.drop(columns=['Weighted_Price'], errors='ignore')\n",
        "\n",
        "# making sure theres no missing values\n",
        "bitstamp_df['Close'] = bitstamp_df['Close'].fillna(method='ffill')\n",
        "bitstamp_df[['High', 'Low', 'Open']] = bitstamp_df[['High', 'Low', 'Open']].fillna(bitstamp_df['Close'], axis=0)\n",
        "bitstamp_df[['Volume_(BTC)', 'Volume_(Currency)']] = bitstamp_df[['Volume_(BTC)', 'Volume_(Currency)']].fillna(0)\n",
        "\n",
        "# aggregate and plot data from 2017 onwards\n",
        "bitstamp_df_agg = bitstamp_df['2017':].resample('D').agg({\n",
        "    'High': 'max',\n",
        "    'Low': 'min',\n",
        "    'Open': 'mean',\n",
        "    'Close': 'mean',\n",
        "    'Volume_(BTC)': 'sum',\n",
        "    'Volume_(Currency)': 'sum'\n",
        "})\n",
        "\n",
        "# PLOTTING\n",
        "plt.figure(figsize=(14, 7))\n",
        "plt.plot(bitstamp_df_agg.index, bitstamp_df_agg['Close'], label='Close', color='blue')\n",
        "plt.plot(bitstamp_df_agg.index, bitstamp_df_agg['High'], label='High', color='green')\n",
        "plt.plot(bitstamp_df_agg.index, bitstamp_df_agg['Low'], label='Low', color='red')\n",
        "plt.plot(bitstamp_df_agg.index, bitstamp_df_agg['Open'], label='Open', color='orange')\n",
        "plt.title('Cryptocurrency Prices (2017 and beyond)')\n",
        "plt.xlabel('Date')\n",
        "plt.ylabel('Price')\n",
        "plt.legend()\n",
        "plt.show()"
      ],
      "metadata": {
        "colab": {
          "base_uri": "https://localhost:8080/",
          "height": 641
        },
        "id": "4C9NcpvpqMB9",
        "outputId": "78485cdd-4b06-4f8c-ca18-af87af319547"
      },
      "execution_count": 65,
      "outputs": [
        {
          "output_type": "display_data",
          "data": {
            "text/plain": [
              "<Figure size 1400x700 with 1 Axes>"
            ],
            "image/png": "[encoded data removed]"
          },
          "metadata": {}
        }
      ]
    }
  ]
}